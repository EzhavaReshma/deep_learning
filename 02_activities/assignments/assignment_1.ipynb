{
 "cells": [
  {
   "cell_type": "markdown",
   "id": "ba8ab56f",
   "metadata": {},
   "source": [
    "# Advanced Image Classification with ImageNet"
   ]
  },
  {
   "cell_type": "markdown",
   "id": "7c630244b8fe2847",
   "metadata": {
    "collapsed": false,
    "jupyter": {
     "outputs_hidden": false
    }
   },
   "source": [
    "In this assignment, you will be asked to develop a convolutional neural network (CNN) to classify images from the CIFAR-100 dataset. At each step, you'll be guided through the process of developing a model architecture to solve a problem. Your goal is to create a CNN that attains at least 55% accuracy on the validation set.\n",
    "\n",
    "### The CIFAR-100 Dataset\n",
    "\n",
    "The [CIFAR-100 dataset](https://www.cs.toronto.edu/~kriz/cifar.html) consists of 60000 32x32 colour images in 100 classes, with 600 images per class. There are 50000 training images and 10000 test images. The dataset is divided into five training batches and one test batch, each with 10000 images. The test batch contains exactly 1000 randomly-selected images from each class. The training batches contain the remaining images in random order, but some training batches may contain more images from one class than another. Between them, the training batches contain exactly 500 images from each class.\n",
    "\n",
    "### Tools\n",
    "\n",
    "You will use Keras with TensorFlow to develop your CNN. For this assignment, it's strongly recommended that you use a GPU to accelerate your training, or else you might find it difficult to train your network in a reasonable amount of time. If you have a computer with a GPU that you wish to use, you can follow the [TensorFlow instructions](https://www.tensorflow.org/install/) for installing TensorFlow with GPU support. Otherwise, you can use [Google Colab](https://colab.research.google.com/) to complete this assignment. Colab provides free access to GPU-enabled machines. If you run into any issues, please contact us as soon as possible so that we can help you resolve them."
   ]
  },
  {
   "cell_type": "markdown",
   "id": "fab62988ece1528d",
   "metadata": {
    "collapsed": false,
    "jupyter": {
     "outputs_hidden": false
    }
   },
   "source": [
    "## Task 1: Data Exploration and Preprocessing (Complete or Incomplete)\n",
    "### 1a: Load and Explore the Dataset\n",
    "- Use the code below to download the dataset.\n",
    "- Explore the dataset: examine the shape of the training and test sets, the dimensions of the images, and the number of classes. Show a few examples from the training set."
   ]
  },
  {
   "cell_type": "code",
   "execution_count": 51,
   "id": "8820fcdc5ae52ae2",
   "metadata": {
    "ExecuteTime": {
     "start_time": "2024-01-26T17:04:08.432758Z"
    },
    "collapsed": false,
    "is_executing": true,
    "jupyter": {
     "outputs_hidden": false
    }
   },
   "outputs": [],
   "source": [
    "from keras.datasets import cifar100\n",
    "import matplotlib.pyplot as plt\n",
    "\n",
    "\n",
    "# Load the CIFAR-100 dataset\n",
    "(x_train, y_train), (x_test, y_test) = cifar100.load_data(label_mode='fine')"
   ]
  },
  {
   "cell_type": "code",
   "execution_count": 52,
   "id": "a386b4072078138f",
   "metadata": {
    "collapsed": false,
    "jupyter": {
     "outputs_hidden": false
    }
   },
   "outputs": [],
   "source": [
    "class_names = [\n",
    "    \"apple\", \"aquarium_fish\", \"baby\", \"bear\", \"beaver\", \"bed\", \"bee\", \"beetle\", \"bicycle\", \"bottle\",\n",
    "    \"bowl\", \"boy\", \"bridge\", \"bus\", \"butterfly\", \"camel\", \"can\", \"castle\", \"caterpillar\", \"cattle\",\n",
    "    \"chair\", \"chimpanzee\", \"clock\", \"cloud\", \"cockroach\", \"couch\", \"crab\", \"crocodile\", \"cup\", \"dinosaur\",\n",
    "    \"dolphin\", \"elephant\", \"flatfish\", \"forest\", \"fox\", \"girl\", \"hamster\", \"house\", \"kangaroo\", \"keyboard\",\n",
    "    \"lamp\", \"lawn_mower\", \"leopard\", \"lion\", \"lizard\", \"lobster\", \"man\", \"maple_tree\", \"motorcycle\", \"mountain\",\n",
    "    \"mouse\", \"mushroom\", \"oak_tree\", \"orange\", \"orchid\", \"otter\", \"palm_tree\", \"pear\", \"pickup_truck\", \"pine_tree\",\n",
    "    \"plain\", \"plate\", \"poppy\", \"porcupine\", \"possum\", \"rabbit\", \"raccoon\", \"ray\", \"road\", \"rocket\",\n",
    "    \"rose\", \"sea\", \"seal\", \"shark\", \"shrew\", \"skunk\", \"skyscraper\", \"snail\", \"snake\", \"spider\",\n",
    "    \"squirrel\", \"streetcar\", \"sunflower\", \"sweet_pepper\", \"table\", \"tank\", \"telephone\", \"television\", \"tiger\", \"tractor\",\n",
    "    \"train\", \"trout\", \"tulip\", \"turtle\", \"wardrobe\", \"whale\", \"willow_tree\", \"wolf\", \"woman\", \"worm\"\n",
    "]"
   ]
  },
  {
   "cell_type": "code",
   "execution_count": 53,
   "id": "36ca8354",
   "metadata": {},
   "outputs": [
    {
     "name": "stdout",
     "output_type": "stream",
     "text": [
      "Training data shape: (50000, 32, 32, 3)\n",
      "Test data shape: (10000, 32, 32, 3)\n",
      "Number of classes: 100\n"
     ]
    }
   ],
   "source": [
    "# Your Code Here\n",
    "print(f\"Training data shape: {x_train.shape}\")\n",
    "print(f\"Test data shape: {x_test.shape}\")\n",
    "print(f\"Number of classes: {len(set(y_train.flatten()))}\")"
   ]
  },
  {
   "cell_type": "code",
   "execution_count": 54,
   "id": "eff861bd",
   "metadata": {},
   "outputs": [
    {
     "data": {
      "image/png": "[encoded data removed]",
      "text/plain": [
       "<Figure size 1500x300 with 5 Axes>"
      ]
     },
     "metadata": {},
     "output_type": "display_data"
    }
   ],
   "source": [
    "# Visualize few images\n",
    "fig, axes = plt.subplots(1, 5, figsize=(15, 3))\n",
    "for i in range(5):\n",
    "    axes[i].imshow(x_train[i])\n",
    "    axes[i].axis('off')\n",
    "plt.show()\n"
   ]
  },
  {
   "cell_type": "markdown",
   "id": "ad49291da3a819ea",
   "metadata": {
    "collapsed": false,
    "jupyter": {
     "outputs_hidden": false
    }
   },
   "source": [
    "### 1b: Data Preprocessing\n",
    "- With the data downloaded, it's time to preprocess it. Start by normalizing the images so that they all have pixel values in the range [0, 1].\n",
    "- Next, convert the labels to one-hot encoded vectors.\n",
    "- Finally, split the training set into training and validation sets. Use 80% of the training set for training and the remaining 20% for validation."
   ]
  },
  {
   "cell_type": "code",
   "execution_count": 55,
   "id": "b18c10172fa72d0c",
   "metadata": {
    "collapsed": false,
    "jupyter": {
     "outputs_hidden": false
    }
   },
   "outputs": [],
   "source": [
    "# Your Code Here\n",
    "from tensorflow.keras.utils import to_categorical\n",
    "from sklearn.model_selection import train_test_split\n",
    "\n",
    "# Normalize pixel values\n",
    "x_train = x_train / 255.0\n",
    "x_test = x_test / 255.0\n",
    "\n",
    "# One-hot encode labels\n",
    "y_train_cat = to_categorical(y_train, 100)\n",
    "y_test_cat = to_categorical(y_test, 100)\n",
    "\n",
    "# Train-validation split\n",
    "x_train, x_val, y_train_cat, y_val_cat = train_test_split(x_train, y_train_cat, test_size=0.2, random_state=42)\n"
   ]
  },
  {
   "cell_type": "markdown",
   "id": "5993757f08c89db7",
   "metadata": {
    "collapsed": false,
    "jupyter": {
     "outputs_hidden": false
    }
   },
   "source": [
    "## Task 2: Model Development (Complete or Incomplete)\n",
    "### Task 2a: Create a Baseline CNN Model\n",
    "- Design a CNN architecture. Your architecture should use convolutional layers, max pooling layers, and dense layers. You can use any number of layers, and you can experiment with different numbers of filters, filter sizes, strides, padding, etc. The design doesn't need to be perfect, but it should be unique to you.\n",
    "- Print out the model summary."
   ]
  },
  {
   "cell_type": "code",
   "execution_count": 56,
   "id": "c9edafdaf887b8d5",
   "metadata": {
    "collapsed": false,
    "jupyter": {
     "outputs_hidden": false
    }
   },
   "outputs": [
    {
     "name": "stderr",
     "output_type": "stream",
     "text": [
      "/opt/miniconda3/lib/python3.12/site-packages/keras/src/layers/convolutional/base_conv.py:113: UserWarning: Do not pass an `input_shape`/`input_dim` argument to a layer. When using Sequential models, prefer using an `Input(shape)` object as the first layer in the model instead.\n",
      "  super().__init__(activity_regularizer=activity_regularizer, **kwargs)\n"
     ]
    },
    {
     "data": {
      "text/html": [
       "<pre style=\"white-space:pre;overflow-x:auto;line-height:normal;font-family:Menlo,'DejaVu Sans Mono',consolas,'Courier New',monospace\"><span style=\"font-weight: bold\">Model: \"sequential_11\"</span>\n",
       "</pre>\n"
      ],
      "text/plain": [
       "\u001b[1mModel: \"sequential_11\"\u001b[0m\n"
      ]
     },
     "metadata": {},
     "output_type": "display_data"
    },
    {
     "data": {
      "text/html": [
       "<pre style=\"white-space:pre;overflow-x:auto;line-height:normal;font-family:Menlo,'DejaVu Sans Mono',consolas,'Courier New',monospace\">┏━━━━━━━━━━━━━━━━━━━━━━━━━━━━━━━━━┳━━━━━━━━━━━━━━━━━━━━━━━━┳━━━━━━━━━━━━━━━┓\n",
       "┃<span style=\"font-weight: bold\"> Layer (type)                    </span>┃<span style=\"font-weight: bold\"> Output Shape           </span>┃<span style=\"font-weight: bold\">       Param # </span>┃\n",
       "┡━━━━━━━━━━━━━━━━━━━━━━━━━━━━━━━━━╇━━━━━━━━━━━━━━━━━━━━━━━━╇━━━━━━━━━━━━━━━┩\n",
       "│ conv2d_22 (<span style=\"color: #0087ff; text-decoration-color: #0087ff\">Conv2D</span>)              │ (<span style=\"color: #00d7ff; text-decoration-color: #00d7ff\">None</span>, <span style=\"color: #00af00; text-decoration-color: #00af00\">30</span>, <span style=\"color: #00af00; text-decoration-color: #00af00\">30</span>, <span style=\"color: #00af00; text-decoration-color: #00af00\">32</span>)     │           <span style=\"color: #00af00; text-decoration-color: #00af00\">896</span> │\n",
       "├─────────────────────────────────┼────────────────────────┼───────────────┤\n",
       "│ max_pooling2d_22 (<span style=\"color: #0087ff; text-decoration-color: #0087ff\">MaxPooling2D</span>) │ (<span style=\"color: #00d7ff; text-decoration-color: #00d7ff\">None</span>, <span style=\"color: #00af00; text-decoration-color: #00af00\">15</span>, <span style=\"color: #00af00; text-decoration-color: #00af00\">15</span>, <span style=\"color: #00af00; text-decoration-color: #00af00\">32</span>)     │             <span style=\"color: #00af00; text-decoration-color: #00af00\">0</span> │\n",
       "├─────────────────────────────────┼────────────────────────┼───────────────┤\n",
       "│ conv2d_23 (<span style=\"color: #0087ff; text-decoration-color: #0087ff\">Conv2D</span>)              │ (<span style=\"color: #00d7ff; text-decoration-color: #00d7ff\">None</span>, <span style=\"color: #00af00; text-decoration-color: #00af00\">13</span>, <span style=\"color: #00af00; text-decoration-color: #00af00\">13</span>, <span style=\"color: #00af00; text-decoration-color: #00af00\">64</span>)     │        <span style=\"color: #00af00; text-decoration-color: #00af00\">18,496</span> │\n",
       "├─────────────────────────────────┼────────────────────────┼───────────────┤\n",
       "│ max_pooling2d_23 (<span style=\"color: #0087ff; text-decoration-color: #0087ff\">MaxPooling2D</span>) │ (<span style=\"color: #00d7ff; text-decoration-color: #00d7ff\">None</span>, <span style=\"color: #00af00; text-decoration-color: #00af00\">6</span>, <span style=\"color: #00af00; text-decoration-color: #00af00\">6</span>, <span style=\"color: #00af00; text-decoration-color: #00af00\">64</span>)       │             <span style=\"color: #00af00; text-decoration-color: #00af00\">0</span> │\n",
       "├─────────────────────────────────┼────────────────────────┼───────────────┤\n",
       "│ flatten_11 (<span style=\"color: #0087ff; text-decoration-color: #0087ff\">Flatten</span>)            │ (<span style=\"color: #00d7ff; text-decoration-color: #00d7ff\">None</span>, <span style=\"color: #00af00; text-decoration-color: #00af00\">2304</span>)           │             <span style=\"color: #00af00; text-decoration-color: #00af00\">0</span> │\n",
       "├─────────────────────────────────┼────────────────────────┼───────────────┤\n",
       "│ dense_22 (<span style=\"color: #0087ff; text-decoration-color: #0087ff\">Dense</span>)                │ (<span style=\"color: #00d7ff; text-decoration-color: #00d7ff\">None</span>, <span style=\"color: #00af00; text-decoration-color: #00af00\">128</span>)            │       <span style=\"color: #00af00; text-decoration-color: #00af00\">295,040</span> │\n",
       "├─────────────────────────────────┼────────────────────────┼───────────────┤\n",
       "│ dropout_25 (<span style=\"color: #0087ff; text-decoration-color: #0087ff\">Dropout</span>)            │ (<span style=\"color: #00d7ff; text-decoration-color: #00d7ff\">None</span>, <span style=\"color: #00af00; text-decoration-color: #00af00\">128</span>)            │             <span style=\"color: #00af00; text-decoration-color: #00af00\">0</span> │\n",
       "├─────────────────────────────────┼────────────────────────┼───────────────┤\n",
       "│ dense_23 (<span style=\"color: #0087ff; text-decoration-color: #0087ff\">Dense</span>)                │ (<span style=\"color: #00d7ff; text-decoration-color: #00d7ff\">None</span>, <span style=\"color: #00af00; text-decoration-color: #00af00\">100</span>)            │        <span style=\"color: #00af00; text-decoration-color: #00af00\">12,900</span> │\n",
       "└─────────────────────────────────┴────────────────────────┴───────────────┘\n",
       "</pre>\n"
      ],
      "text/plain": [
       "┏━━━━━━━━━━━━━━━━━━━━━━━━━━━━━━━━━┳━━━━━━━━━━━━━━━━━━━━━━━━┳━━━━━━━━━━━━━━━┓\n",
       "┃\u001b[1m \u001b[0m\u001b[1mLayer (type)                   \u001b[0m\u001b[1m \u001b[0m┃\u001b[1m \u001b[0m\u001b[1mOutput Shape          \u001b[0m\u001b[1m \u001b[0m┃\u001b[1m \u001b[0m\u001b[1m      Param #\u001b[0m\u001b[1m \u001b[0m┃\n",
       "┡━━━━━━━━━━━━━━━━━━━━━━━━━━━━━━━━━╇━━━━━━━━━━━━━━━━━━━━━━━━╇━━━━━━━━━━━━━━━┩\n",
       "│ conv2d_22 (\u001b[38;5;33mConv2D\u001b[0m)              │ (\u001b[38;5;45mNone\u001b[0m, \u001b[38;5;34m30\u001b[0m, \u001b[38;5;34m30\u001b[0m, \u001b[38;5;34m32\u001b[0m)     │           \u001b[38;5;34m896\u001b[0m │\n",
       "├─────────────────────────────────┼────────────────────────┼───────────────┤\n",
       "│ max_pooling2d_22 (\u001b[38;5;33mMaxPooling2D\u001b[0m) │ (\u001b[38;5;45mNone\u001b[0m, \u001b[38;5;34m15\u001b[0m, \u001b[38;5;34m15\u001b[0m, \u001b[38;5;34m32\u001b[0m)     │             \u001b[38;5;34m0\u001b[0m │\n",
       "├─────────────────────────────────┼────────────────────────┼───────────────┤\n",
       "│ conv2d_23 (\u001b[38;5;33mConv2D\u001b[0m)              │ (\u001b[38;5;45mNone\u001b[0m, \u001b[38;5;34m13\u001b[0m, \u001b[38;5;34m13\u001b[0m, \u001b[38;5;34m64\u001b[0m)     │        \u001b[38;5;34m18,496\u001b[0m │\n",
       "├─────────────────────────────────┼────────────────────────┼───────────────┤\n",
       "│ max_pooling2d_23 (\u001b[38;5;33mMaxPooling2D\u001b[0m) │ (\u001b[38;5;45mNone\u001b[0m, \u001b[38;5;34m6\u001b[0m, \u001b[38;5;34m6\u001b[0m, \u001b[38;5;34m64\u001b[0m)       │             \u001b[38;5;34m0\u001b[0m │\n",
       "├─────────────────────────────────┼────────────────────────┼───────────────┤\n",
       "│ flatten_11 (\u001b[38;5;33mFlatten\u001b[0m)            │ (\u001b[38;5;45mNone\u001b[0m, \u001b[38;5;34m2304\u001b[0m)           │             \u001b[38;5;34m0\u001b[0m │\n",
       "├─────────────────────────────────┼────────────────────────┼───────────────┤\n",
       "│ dense_22 (\u001b[38;5;33mDense\u001b[0m)                │ (\u001b[38;5;45mNone\u001b[0m, \u001b[38;5;34m128\u001b[0m)            │       \u001b[38;5;34m295,040\u001b[0m │\n",
       "├─────────────────────────────────┼────────────────────────┼───────────────┤\n",
       "│ dropout_25 (\u001b[38;5;33mDropout\u001b[0m)            │ (\u001b[38;5;45mNone\u001b[0m, \u001b[38;5;34m128\u001b[0m)            │             \u001b[38;5;34m0\u001b[0m │\n",
       "├─────────────────────────────────┼────────────────────────┼───────────────┤\n",
       "│ dense_23 (\u001b[38;5;33mDense\u001b[0m)                │ (\u001b[38;5;45mNone\u001b[0m, \u001b[38;5;34m100\u001b[0m)            │        \u001b[38;5;34m12,900\u001b[0m │\n",
       "└─────────────────────────────────┴────────────────────────┴───────────────┘\n"
      ]
     },
     "metadata": {},
     "output_type": "display_data"
    },
    {
     "data": {
      "text/html": [
       "<pre style=\"white-space:pre;overflow-x:auto;line-height:normal;font-family:Menlo,'DejaVu Sans Mono',consolas,'Courier New',monospace\"><span style=\"font-weight: bold\"> Total params: </span><span style=\"color: #00af00; text-decoration-color: #00af00\">327,332</span> (1.25 MB)\n",
       "</pre>\n"
      ],
      "text/plain": [
       "\u001b[1m Total params: \u001b[0m\u001b[38;5;34m327,332\u001b[0m (1.25 MB)\n"
      ]
     },
     "metadata": {},
     "output_type": "display_data"
    },
    {
     "data": {
      "text/html": [
       "<pre style=\"white-space:pre;overflow-x:auto;line-height:normal;font-family:Menlo,'DejaVu Sans Mono',consolas,'Courier New',monospace\"><span style=\"font-weight: bold\"> Trainable params: </span><span style=\"color: #00af00; text-decoration-color: #00af00\">327,332</span> (1.25 MB)\n",
       "</pre>\n"
      ],
      "text/plain": [
       "\u001b[1m Trainable params: \u001b[0m\u001b[38;5;34m327,332\u001b[0m (1.25 MB)\n"
      ]
     },
     "metadata": {},
     "output_type": "display_data"
    },
    {
     "data": {
      "text/html": [
       "<pre style=\"white-space:pre;overflow-x:auto;line-height:normal;font-family:Menlo,'DejaVu Sans Mono',consolas,'Courier New',monospace\"><span style=\"font-weight: bold\"> Non-trainable params: </span><span style=\"color: #00af00; text-decoration-color: #00af00\">0</span> (0.00 B)\n",
       "</pre>\n"
      ],
      "text/plain": [
       "\u001b[1m Non-trainable params: \u001b[0m\u001b[38;5;34m0\u001b[0m (0.00 B)\n"
      ]
     },
     "metadata": {},
     "output_type": "display_data"
    }
   ],
   "source": [
    "# Your Code Here\n",
    "from tensorflow.keras.models import Sequential\n",
    "from tensorflow.keras.layers import Conv2D, MaxPooling2D, Flatten, Dense, Dropout\n",
    "\n",
    "model = Sequential([\n",
    "    Conv2D(32, (3, 3), activation='relu', input_shape=(32, 32, 3)),\n",
    "    MaxPooling2D((2, 2)),\n",
    "\n",
    "    Conv2D(64, (3, 3), activation='relu'),\n",
    "    MaxPooling2D((2, 2)),\n",
    "\n",
    "    Flatten(),\n",
    "    Dense(128, activation='relu'),\n",
    "    Dropout(0.5),\n",
    "    Dense(100, activation='softmax')\n",
    "])\n",
    "\n",
    "model.summary()\n"
   ]
  },
  {
   "cell_type": "markdown",
   "id": "546324c007c73db5",
   "metadata": {
    "collapsed": false,
    "jupyter": {
     "outputs_hidden": false
    }
   },
   "source": [
    "### Task 2b: Compile the model\n",
    "\n",
    "- Select an appropriate loss function and optimizer for your model. These can be ones we have looked at already, or they can be different. \n",
    "- Briefly explain your choices (one or two sentences each).\n",
    "- <b>Loss function:</b> categorical_crossentropy\n",
    "This is the standard loss function for multi-class classification problems with one-hot encoded labels, which fits our use case with 100 classes in CIFAR-100.\n",
    "- <b>Optimizer:</b> I chose Adam because it combines the benefits of RMSprop and SGD with momentum, adapts learning rates during training, and works well out of the box for most deep learning tasks."
   ]
  },
  {
   "cell_type": "code",
   "execution_count": 57,
   "id": "ab39f4ba69d684e9",
   "metadata": {
    "collapsed": false,
    "jupyter": {
     "outputs_hidden": false
    }
   },
   "outputs": [],
   "source": [
    "# Your Code Here\n",
    "model.compile(optimizer='adam', loss='categorical_crossentropy', metrics=['accuracy'])\n"
   ]
  },
  {
   "cell_type": "markdown",
   "id": "653fba928413b9f6",
   "metadata": {
    "collapsed": false,
    "jupyter": {
     "outputs_hidden": false
    }
   },
   "source": [
    "## Task 3: Model Training and Evaluation (Complete or Incomplete)\n",
    "### Task 3a: Train the Model\n",
    "\n",
    "- Train your model for an appropriate number of epochs. Explain your choice of the number of epochs used - you can change this number before submitting your assignment.\n",
    "- Use a batch size of 32.\n",
    "- Use the validation set for validation."
   ]
  },
  {
   "cell_type": "code",
   "execution_count": 58,
   "id": "9de74f274ad08546",
   "metadata": {
    "collapsed": false,
    "jupyter": {
     "outputs_hidden": false
    }
   },
   "outputs": [
    {
     "name": "stdout",
     "output_type": "stream",
     "text": [
      "Epoch 1/20\n",
      "\u001b[1m1250/1250\u001b[0m \u001b[32m━━━━━━━━━━━━━━━━━━━━\u001b[0m\u001b[37m\u001b[0m \u001b[1m7s\u001b[0m 5ms/step - accuracy: 0.0375 - loss: 4.3604 - val_accuracy: 0.1526 - val_loss: 3.6290\n",
      "Epoch 2/20\n",
      "\u001b[1m1250/1250\u001b[0m \u001b[32m━━━━━━━━━━━━━━━━━━━━\u001b[0m\u001b[37m\u001b[0m \u001b[1m6s\u001b[0m 5ms/step - accuracy: 0.1281 - loss: 3.7199 - val_accuracy: 0.2141 - val_loss: 3.2884\n",
      "Epoch 3/20\n",
      "\u001b[1m1250/1250\u001b[0m \u001b[32m━━━━━━━━━━━━━━━━━━━━\u001b[0m\u001b[37m\u001b[0m \u001b[1m6s\u001b[0m 5ms/step - accuracy: 0.1671 - loss: 3.4616 - val_accuracy: 0.2401 - val_loss: 3.1698\n",
      "Epoch 4/20\n",
      "\u001b[1m1250/1250\u001b[0m \u001b[32m━━━━━━━━━━━━━━━━━━━━\u001b[0m\u001b[37m\u001b[0m \u001b[1m6s\u001b[0m 5ms/step - accuracy: 0.1961 - loss: 3.3259 - val_accuracy: 0.2669 - val_loss: 3.0167\n",
      "Epoch 5/20\n",
      "\u001b[1m1250/1250\u001b[0m \u001b[32m━━━━━━━━━━━━━━━━━━━━\u001b[0m\u001b[37m\u001b[0m \u001b[1m6s\u001b[0m 5ms/step - accuracy: 0.2146 - loss: 3.2262 - val_accuracy: 0.2813 - val_loss: 2.9670\n",
      "Epoch 6/20\n",
      "\u001b[1m1250/1250\u001b[0m \u001b[32m━━━━━━━━━━━━━━━━━━━━\u001b[0m\u001b[37m\u001b[0m \u001b[1m6s\u001b[0m 5ms/step - accuracy: 0.2274 - loss: 3.1242 - val_accuracy: 0.2914 - val_loss: 2.8867\n",
      "Epoch 7/20\n",
      "\u001b[1m1250/1250\u001b[0m \u001b[32m━━━━━━━━━━━━━━━━━━━━\u001b[0m\u001b[37m\u001b[0m \u001b[1m6s\u001b[0m 5ms/step - accuracy: 0.2388 - loss: 3.0662 - val_accuracy: 0.3048 - val_loss: 2.8089\n",
      "Epoch 8/20\n",
      "\u001b[1m1250/1250\u001b[0m \u001b[32m━━━━━━━━━━━━━━━━━━━━\u001b[0m\u001b[37m\u001b[0m \u001b[1m6s\u001b[0m 5ms/step - accuracy: 0.2523 - loss: 3.0072 - val_accuracy: 0.3123 - val_loss: 2.7818\n",
      "Epoch 9/20\n",
      "\u001b[1m1250/1250\u001b[0m \u001b[32m━━━━━━━━━━━━━━━━━━━━\u001b[0m\u001b[37m\u001b[0m \u001b[1m6s\u001b[0m 5ms/step - accuracy: 0.2648 - loss: 2.9439 - val_accuracy: 0.3139 - val_loss: 2.7810\n",
      "Epoch 10/20\n",
      "\u001b[1m1250/1250\u001b[0m \u001b[32m━━━━━━━━━━━━━━━━━━━━\u001b[0m\u001b[37m\u001b[0m \u001b[1m6s\u001b[0m 5ms/step - accuracy: 0.2711 - loss: 2.9050 - val_accuracy: 0.3198 - val_loss: 2.7209\n",
      "Epoch 11/20\n",
      "\u001b[1m1250/1250\u001b[0m \u001b[32m━━━━━━━━━━━━━━━━━━━━\u001b[0m\u001b[37m\u001b[0m \u001b[1m6s\u001b[0m 5ms/step - accuracy: 0.2731 - loss: 2.8565 - val_accuracy: 0.3256 - val_loss: 2.7252\n",
      "Epoch 12/20\n",
      "\u001b[1m1250/1250\u001b[0m \u001b[32m━━━━━━━━━━━━━━━━━━━━\u001b[0m\u001b[37m\u001b[0m \u001b[1m6s\u001b[0m 5ms/step - accuracy: 0.2784 - loss: 2.8309 - val_accuracy: 0.3319 - val_loss: 2.6923\n",
      "Epoch 13/20\n",
      "\u001b[1m1250/1250\u001b[0m \u001b[32m━━━━━━━━━━━━━━━━━━━━\u001b[0m\u001b[37m\u001b[0m \u001b[1m6s\u001b[0m 5ms/step - accuracy: 0.2926 - loss: 2.7717 - val_accuracy: 0.3321 - val_loss: 2.6915\n",
      "Epoch 14/20\n",
      "\u001b[1m1250/1250\u001b[0m \u001b[32m━━━━━━━━━━━━━━━━━━━━\u001b[0m\u001b[37m\u001b[0m \u001b[1m6s\u001b[0m 5ms/step - accuracy: 0.2988 - loss: 2.7427 - val_accuracy: 0.3338 - val_loss: 2.6709\n",
      "Epoch 15/20\n",
      "\u001b[1m1250/1250\u001b[0m \u001b[32m━━━━━━━━━━━━━━━━━━━━\u001b[0m\u001b[37m\u001b[0m \u001b[1m6s\u001b[0m 5ms/step - accuracy: 0.3061 - loss: 2.6949 - val_accuracy: 0.3414 - val_loss: 2.6466\n",
      "Epoch 16/20\n",
      "\u001b[1m1250/1250\u001b[0m \u001b[32m━━━━━━━━━━━━━━━━━━━━\u001b[0m\u001b[37m\u001b[0m \u001b[1m6s\u001b[0m 5ms/step - accuracy: 0.3092 - loss: 2.6862 - val_accuracy: 0.3370 - val_loss: 2.6638\n",
      "Epoch 17/20\n",
      "\u001b[1m1250/1250\u001b[0m \u001b[32m━━━━━━━━━━━━━━━━━━━━\u001b[0m\u001b[37m\u001b[0m \u001b[1m6s\u001b[0m 5ms/step - accuracy: 0.3137 - loss: 2.6320 - val_accuracy: 0.3297 - val_loss: 2.6787\n",
      "Epoch 18/20\n",
      "\u001b[1m1250/1250\u001b[0m \u001b[32m━━━━━━━━━━━━━━━━━━━━\u001b[0m\u001b[37m\u001b[0m \u001b[1m6s\u001b[0m 5ms/step - accuracy: 0.3255 - loss: 2.6055 - val_accuracy: 0.3402 - val_loss: 2.6374\n",
      "Epoch 19/20\n",
      "\u001b[1m1250/1250\u001b[0m \u001b[32m━━━━━━━━━━━━━━━━━━━━\u001b[0m\u001b[37m\u001b[0m \u001b[1m6s\u001b[0m 5ms/step - accuracy: 0.3272 - loss: 2.5680 - val_accuracy: 0.3318 - val_loss: 2.7033\n",
      "Epoch 20/20\n",
      "\u001b[1m1250/1250\u001b[0m \u001b[32m━━━━━━━━━━━━━━━━━━━━\u001b[0m\u001b[37m\u001b[0m \u001b[1m6s\u001b[0m 5ms/step - accuracy: 0.3294 - loss: 2.5499 - val_accuracy: 0.3406 - val_loss: 2.6478\n"
     ]
    }
   ],
   "source": [
    "# Your Code Here\n",
    "history = model.fit(\n",
    "    x_train, y_train_cat,\n",
    "    epochs=20,\n",
    "    batch_size=32,\n",
    "    validation_data=(x_val, y_val_cat)\n",
    ")\n"
   ]
  },
  {
   "cell_type": "markdown",
   "id": "b48615c26b99d2e9",
   "metadata": {
    "collapsed": false,
    "jupyter": {
     "outputs_hidden": false
    }
   },
   "source": [
    "### Task 3b: Accuracy and other relevant metrics on the test set\n",
    "\n",
    "- Report the accuracy of your model on the test set.\n",
    "- While accuracy is a good metric, there are many other ways to numerically evaluate a model. Report at least one other metric, and explain what it measures and how it is calculated.\n",
    "\n",
    "- <b>Accuracy:</b> ______\n",
    "- <b>Other metric:</b> ______\n",
    "- <b>Reason for selection:</b> _____\n",
    "- <b>Value of metric:</b> ______\n",
    "- <b>Interpretation of metric value:</b> ______"
   ]
  },
  {
   "cell_type": "code",
   "execution_count": 59,
   "id": "f670665fda92fb0e",
   "metadata": {
    "ExecuteTime": {
     "end_time": "2024-01-26T17:49:39.016880Z",
     "start_time": "2024-01-26T17:49:39.012100Z"
    },
    "collapsed": false,
    "jupyter": {
     "outputs_hidden": false
    }
   },
   "outputs": [
    {
     "name": "stdout",
     "output_type": "stream",
     "text": [
      "313/313 - 0s - 1ms/step - accuracy: 0.3351 - loss: 2.6631\n",
      "Test accuracy: 0.3351\n",
      "\u001b[1m313/313\u001b[0m \u001b[32m━━━━━━━━━━━━━━━━━━━━\u001b[0m\u001b[37m\u001b[0m \u001b[1m0s\u001b[0m 1ms/step\n",
      "              precision    recall  f1-score   support\n",
      "\n",
      "           0       0.60      0.64      0.62       100\n",
      "           1       0.33      0.39      0.35       100\n",
      "           2       0.20      0.34      0.25       100\n",
      "           3       0.21      0.17      0.19       100\n",
      "           4       0.14      0.23      0.17       100\n",
      "           5       0.21      0.28      0.24       100\n",
      "           6       0.43      0.30      0.35       100\n",
      "           7       0.31      0.34      0.33       100\n",
      "           8       0.42      0.36      0.39       100\n",
      "           9       0.55      0.41      0.47       100\n",
      "          10       0.26      0.22      0.24       100\n",
      "          11       0.17      0.17      0.17       100\n",
      "          12       0.31      0.34      0.33       100\n",
      "          13       0.31      0.23      0.26       100\n",
      "          14       0.32      0.25      0.28       100\n",
      "          15       0.23      0.27      0.25       100\n",
      "          16       0.40      0.31      0.35       100\n",
      "          17       0.51      0.44      0.47       100\n",
      "          18       0.30      0.25      0.27       100\n",
      "          19       0.28      0.18      0.22       100\n",
      "          20       0.71      0.63      0.67       100\n",
      "          21       0.33      0.67      0.45       100\n",
      "          22       0.32      0.24      0.27       100\n",
      "          23       0.44      0.62      0.51       100\n",
      "          24       0.40      0.66      0.50       100\n",
      "          25       0.31      0.11      0.16       100\n",
      "          26       0.36      0.26      0.30       100\n",
      "          27       0.17      0.23      0.20       100\n",
      "          28       0.55      0.59      0.57       100\n",
      "          29       0.38      0.26      0.31       100\n",
      "          30       0.27      0.41      0.32       100\n",
      "          31       0.25      0.29      0.27       100\n",
      "          32       0.24      0.25      0.24       100\n",
      "          33       0.28      0.39      0.33       100\n",
      "          34       0.17      0.24      0.20       100\n",
      "          35       0.18      0.09      0.12       100\n",
      "          36       0.20      0.31      0.25       100\n",
      "          37       0.25      0.20      0.22       100\n",
      "          38       0.14      0.06      0.08       100\n",
      "          39       0.27      0.26      0.26       100\n",
      "          40       0.35      0.18      0.24       100\n",
      "          41       0.60      0.58      0.59       100\n",
      "          42       0.21      0.20      0.20       100\n",
      "          43       0.25      0.36      0.30       100\n",
      "          44       0.12      0.10      0.11       100\n",
      "          45       0.13      0.15      0.14       100\n",
      "          46       0.27      0.26      0.27       100\n",
      "          47       0.41      0.52      0.46       100\n",
      "          48       0.51      0.69      0.58       100\n",
      "          49       0.45      0.44      0.44       100\n",
      "          50       0.14      0.13      0.13       100\n",
      "          51       0.21      0.24      0.23       100\n",
      "          52       0.47      0.76      0.58       100\n",
      "          53       0.42      0.73      0.54       100\n",
      "          54       0.49      0.45      0.47       100\n",
      "          55       0.12      0.07      0.09       100\n",
      "          56       0.41      0.41      0.41       100\n",
      "          57       0.41      0.24      0.30       100\n",
      "          58       0.29      0.41      0.34       100\n",
      "          59       0.25      0.23      0.24       100\n",
      "          60       0.56      0.71      0.63       100\n",
      "          61       0.54      0.50      0.52       100\n",
      "          62       0.38      0.50      0.43       100\n",
      "          63       0.31      0.29      0.30       100\n",
      "          64       0.12      0.04      0.06       100\n",
      "          65       0.20      0.11      0.14       100\n",
      "          66       0.25      0.17      0.20       100\n",
      "          67       0.33      0.30      0.32       100\n",
      "          68       0.62      0.63      0.62       100\n",
      "          69       0.36      0.39      0.38       100\n",
      "          70       0.31      0.45      0.37       100\n",
      "          71       0.48      0.65      0.55       100\n",
      "          72       0.14      0.11      0.12       100\n",
      "          73       0.25      0.29      0.27       100\n",
      "          74       0.24      0.14      0.18       100\n",
      "          75       0.63      0.49      0.55       100\n",
      "          76       0.59      0.60      0.59       100\n",
      "          77       0.18      0.14      0.16       100\n",
      "          78       0.20      0.15      0.17       100\n",
      "          79       0.33      0.32      0.32       100\n",
      "          80       0.11      0.11      0.11       100\n",
      "          81       0.34      0.43      0.38       100\n",
      "          82       0.63      0.68      0.65       100\n",
      "          83       0.21      0.28      0.24       100\n",
      "          84       0.25      0.12      0.16       100\n",
      "          85       0.49      0.46      0.48       100\n",
      "          86       0.40      0.39      0.40       100\n",
      "          87       0.35      0.49      0.40       100\n",
      "          88       0.44      0.24      0.31       100\n",
      "          89       0.34      0.48      0.40       100\n",
      "          90       0.27      0.32      0.29       100\n",
      "          91       0.39      0.39      0.39       100\n",
      "          92       0.35      0.11      0.17       100\n",
      "          93       0.18      0.09      0.12       100\n",
      "          94       0.66      0.70      0.68       100\n",
      "          95       0.38      0.39      0.38       100\n",
      "          96       0.33      0.16      0.21       100\n",
      "          97       0.29      0.36      0.32       100\n",
      "          98       0.18      0.19      0.19       100\n",
      "          99       0.36      0.10      0.16       100\n",
      "\n",
      "    accuracy                           0.34     10000\n",
      "   macro avg       0.33      0.34      0.32     10000\n",
      "weighted avg       0.33      0.34      0.32     10000\n",
      "\n"
     ]
    }
   ],
   "source": [
    "# Your Code Here\n",
    "from sklearn.metrics import classification_report\n",
    "import numpy as np\n",
    "\n",
    "# Evaluate accuracy\n",
    "test_loss, test_acc = model.evaluate(x_test, y_test_cat, verbose=2)\n",
    "print(f\"Test accuracy: {test_acc:.4f}\")\n",
    "\n",
    "# Predict classes\n",
    "y_pred_probs = model.predict(x_test)\n",
    "y_pred_classes = np.argmax(y_pred_probs, axis=1)\n",
    "y_true_classes = np.argmax(y_test_cat, axis=1)\n",
    "\n",
    "# Classification report\n",
    "print(classification_report(y_true_classes, y_pred_classes))\n"
   ]
  },
  {
   "cell_type": "markdown",
   "id": "58d2d836d4e8ce99",
   "metadata": {
    "collapsed": false,
    "jupyter": {
     "outputs_hidden": false
    }
   },
   "source": [
    "### Task 3c: Visualize the model's learning\n",
    "\n",
    "- Plot the training accuracy and validation accuracy with respect to epochs.\n",
    "- Select an image that the model correctly classified in the test set, and an image that the model incorrectly classified in the test set. Plot the images and report the model's classification probabilities for each.\n",
    "- Briefly discuss the results. What do the plots show? Do the results make sense? What do the classification probabilities indicate?"
   ]
  },
  {
   "cell_type": "code",
   "execution_count": 60,
   "id": "c5b214475a496ca5",
   "metadata": {
    "ExecuteTime": {
     "end_time": "2024-01-26T17:50:59.733968Z",
     "start_time": "2024-01-26T17:50:59.730635Z"
    },
    "collapsed": false,
    "jupyter": {
     "outputs_hidden": false
    }
   },
   "outputs": [
    {
     "data": {
      "image/png": "[encoded data removed]",
      "text/plain": [
       "<Figure size 1200x500 with 2 Axes>"
      ]
     },
     "metadata": {},
     "output_type": "display_data"
    },
    {
     "data": {
      "image/png": "[encoded data removed]",
      "text/plain": [
       "<Figure size 800x400 with 2 Axes>"
      ]
     },
     "metadata": {},
     "output_type": "display_data"
    }
   ],
   "source": [
    "# Your Code Here\n",
    "# Plot training history\n",
    "plt.figure(figsize=(12, 5))\n",
    "\n",
    "plt.subplot(1, 2, 1)\n",
    "plt.plot(history.history['accuracy'], label='Train')\n",
    "plt.plot(history.history['val_accuracy'], label='Val')\n",
    "plt.title('Accuracy')\n",
    "plt.legend()\n",
    "\n",
    "plt.subplot(1, 2, 2)\n",
    "plt.plot(history.history['loss'], label='Train')\n",
    "plt.plot(history.history['val_loss'], label='Val')\n",
    "plt.title('Loss')\n",
    "plt.legend()\n",
    "\n",
    "plt.show()\n",
    "\n",
    "# Correct and incorrect predictions\n",
    "correct_idx = np.where(y_pred_classes == y_true_classes)[0][0]\n",
    "incorrect_idx = np.where(y_pred_classes != y_true_classes)[0][0]\n",
    "\n",
    "plt.figure(figsize=(8, 4))\n",
    "\n",
    "plt.subplot(1, 2, 1)\n",
    "plt.imshow(x_test[correct_idx])\n",
    "plt.title(f\"Correct: {y_true_classes[correct_idx]} | Pred: {y_pred_classes[correct_idx]}\")\n",
    "\n",
    "plt.subplot(1, 2, 2)\n",
    "plt.imshow(x_test[incorrect_idx])\n",
    "plt.title(f\"Wrong: {y_true_classes[incorrect_idx]} | Pred: {y_pred_classes[incorrect_idx]}\")\n",
    "\n",
    "plt.show()\n"
   ]
  },
  {
   "cell_type": "markdown",
   "id": "a648758ebea0561d",
   "metadata": {
    "collapsed": false,
    "jupyter": {
     "outputs_hidden": false
    }
   },
   "source": [
    "## Task 4: Model Enhancement (Complete or Incomplete)\n",
    "### Task 4a: Implementation of at least one advanced technique\n",
    "\n",
    "- Now it's time to improve your model. Implement at least one technique to improve your model's performance. You can use any of the techniques we have covered in class, or you can use a technique that we haven't covered. If you need inspiration, you can refer to the [Keras documentation](https://keras.io/).\n",
    "- Explain the technique you used and why you chose it.\n",
    "- If you used a technique that requires tuning, explain how you selected the values for the hyperparameters."
   ]
  },
  {
   "cell_type": "markdown",
   "id": "8b946a04",
   "metadata": {},
   "source": [
    "To enhance the model’s performance, I implemented Batch Normalization and \n",
    "increased Dropout in the convolutional neural network.\n",
    "\n",
    "Batch Normalization helps stabilize and accelerate training by normalizing \n",
    "the output of each layer. This allows the model to use higher learning rates \n",
    "and reduces sensitivity to weight initialization.\n",
    "\n",
    "Dropout is used to prevent overfitting by randomly setting a fraction of layer \n",
    "outputs to zero during training, forcing the network to learn more robust features.\n",
    "\n",
    "I added batch normalization layers after each convolutional layer and increased \n",
    "dropout rates after pooling and dense layers (0.25 and 0.5 respectively). \n",
    "These values were chosen based on common defaults in literature and experimentation—higher \n",
    "dropout improved generalization without significantly degrading training accuracy."
   ]
  },
  {
   "cell_type": "code",
   "execution_count": 61,
   "id": "f3659ac83122567f",
   "metadata": {
    "collapsed": false,
    "jupyter": {
     "outputs_hidden": false
    }
   },
   "outputs": [
    {
     "name": "stderr",
     "output_type": "stream",
     "text": [
      "/opt/miniconda3/lib/python3.12/site-packages/keras/src/layers/convolutional/base_conv.py:113: UserWarning: Do not pass an `input_shape`/`input_dim` argument to a layer. When using Sequential models, prefer using an `Input(shape)` object as the first layer in the model instead.\n",
      "  super().__init__(activity_regularizer=activity_regularizer, **kwargs)\n"
     ]
    },
    {
     "data": {
      "text/html": [
       "<pre style=\"white-space:pre;overflow-x:auto;line-height:normal;font-family:Menlo,'DejaVu Sans Mono',consolas,'Courier New',monospace\"><span style=\"font-weight: bold\">Model: \"sequential_12\"</span>\n",
       "</pre>\n"
      ],
      "text/plain": [
       "\u001b[1mModel: \"sequential_12\"\u001b[0m\n"
      ]
     },
     "metadata": {},
     "output_type": "display_data"
    },
    {
     "data": {
      "text/html": [
       "<pre style=\"white-space:pre;overflow-x:auto;line-height:normal;font-family:Menlo,'DejaVu Sans Mono',consolas,'Courier New',monospace\">┏━━━━━━━━━━━━━━━━━━━━━━━━━━━━━━━━━┳━━━━━━━━━━━━━━━━━━━━━━━━┳━━━━━━━━━━━━━━━┓\n",
       "┃<span style=\"font-weight: bold\"> Layer (type)                    </span>┃<span style=\"font-weight: bold\"> Output Shape           </span>┃<span style=\"font-weight: bold\">       Param # </span>┃\n",
       "┡━━━━━━━━━━━━━━━━━━━━━━━━━━━━━━━━━╇━━━━━━━━━━━━━━━━━━━━━━━━╇━━━━━━━━━━━━━━━┩\n",
       "│ conv2d_24 (<span style=\"color: #0087ff; text-decoration-color: #0087ff\">Conv2D</span>)              │ (<span style=\"color: #00d7ff; text-decoration-color: #00d7ff\">None</span>, <span style=\"color: #00af00; text-decoration-color: #00af00\">30</span>, <span style=\"color: #00af00; text-decoration-color: #00af00\">30</span>, <span style=\"color: #00af00; text-decoration-color: #00af00\">32</span>)     │           <span style=\"color: #00af00; text-decoration-color: #00af00\">896</span> │\n",
       "├─────────────────────────────────┼────────────────────────┼───────────────┤\n",
       "│ batch_normalization_14          │ (<span style=\"color: #00d7ff; text-decoration-color: #00d7ff\">None</span>, <span style=\"color: #00af00; text-decoration-color: #00af00\">30</span>, <span style=\"color: #00af00; text-decoration-color: #00af00\">30</span>, <span style=\"color: #00af00; text-decoration-color: #00af00\">32</span>)     │           <span style=\"color: #00af00; text-decoration-color: #00af00\">128</span> │\n",
       "│ (<span style=\"color: #0087ff; text-decoration-color: #0087ff\">BatchNormalization</span>)            │                        │               │\n",
       "├─────────────────────────────────┼────────────────────────┼───────────────┤\n",
       "│ max_pooling2d_24 (<span style=\"color: #0087ff; text-decoration-color: #0087ff\">MaxPooling2D</span>) │ (<span style=\"color: #00d7ff; text-decoration-color: #00d7ff\">None</span>, <span style=\"color: #00af00; text-decoration-color: #00af00\">15</span>, <span style=\"color: #00af00; text-decoration-color: #00af00\">15</span>, <span style=\"color: #00af00; text-decoration-color: #00af00\">32</span>)     │             <span style=\"color: #00af00; text-decoration-color: #00af00\">0</span> │\n",
       "├─────────────────────────────────┼────────────────────────┼───────────────┤\n",
       "│ dropout_26 (<span style=\"color: #0087ff; text-decoration-color: #0087ff\">Dropout</span>)            │ (<span style=\"color: #00d7ff; text-decoration-color: #00d7ff\">None</span>, <span style=\"color: #00af00; text-decoration-color: #00af00\">15</span>, <span style=\"color: #00af00; text-decoration-color: #00af00\">15</span>, <span style=\"color: #00af00; text-decoration-color: #00af00\">32</span>)     │             <span style=\"color: #00af00; text-decoration-color: #00af00\">0</span> │\n",
       "├─────────────────────────────────┼────────────────────────┼───────────────┤\n",
       "│ conv2d_25 (<span style=\"color: #0087ff; text-decoration-color: #0087ff\">Conv2D</span>)              │ (<span style=\"color: #00d7ff; text-decoration-color: #00d7ff\">None</span>, <span style=\"color: #00af00; text-decoration-color: #00af00\">13</span>, <span style=\"color: #00af00; text-decoration-color: #00af00\">13</span>, <span style=\"color: #00af00; text-decoration-color: #00af00\">64</span>)     │        <span style=\"color: #00af00; text-decoration-color: #00af00\">18,496</span> │\n",
       "├─────────────────────────────────┼────────────────────────┼───────────────┤\n",
       "│ batch_normalization_15          │ (<span style=\"color: #00d7ff; text-decoration-color: #00d7ff\">None</span>, <span style=\"color: #00af00; text-decoration-color: #00af00\">13</span>, <span style=\"color: #00af00; text-decoration-color: #00af00\">13</span>, <span style=\"color: #00af00; text-decoration-color: #00af00\">64</span>)     │           <span style=\"color: #00af00; text-decoration-color: #00af00\">256</span> │\n",
       "│ (<span style=\"color: #0087ff; text-decoration-color: #0087ff\">BatchNormalization</span>)            │                        │               │\n",
       "├─────────────────────────────────┼────────────────────────┼───────────────┤\n",
       "│ max_pooling2d_25 (<span style=\"color: #0087ff; text-decoration-color: #0087ff\">MaxPooling2D</span>) │ (<span style=\"color: #00d7ff; text-decoration-color: #00d7ff\">None</span>, <span style=\"color: #00af00; text-decoration-color: #00af00\">6</span>, <span style=\"color: #00af00; text-decoration-color: #00af00\">6</span>, <span style=\"color: #00af00; text-decoration-color: #00af00\">64</span>)       │             <span style=\"color: #00af00; text-decoration-color: #00af00\">0</span> │\n",
       "├─────────────────────────────────┼────────────────────────┼───────────────┤\n",
       "│ dropout_27 (<span style=\"color: #0087ff; text-decoration-color: #0087ff\">Dropout</span>)            │ (<span style=\"color: #00d7ff; text-decoration-color: #00d7ff\">None</span>, <span style=\"color: #00af00; text-decoration-color: #00af00\">6</span>, <span style=\"color: #00af00; text-decoration-color: #00af00\">6</span>, <span style=\"color: #00af00; text-decoration-color: #00af00\">64</span>)       │             <span style=\"color: #00af00; text-decoration-color: #00af00\">0</span> │\n",
       "├─────────────────────────────────┼────────────────────────┼───────────────┤\n",
       "│ flatten_12 (<span style=\"color: #0087ff; text-decoration-color: #0087ff\">Flatten</span>)            │ (<span style=\"color: #00d7ff; text-decoration-color: #00d7ff\">None</span>, <span style=\"color: #00af00; text-decoration-color: #00af00\">2304</span>)           │             <span style=\"color: #00af00; text-decoration-color: #00af00\">0</span> │\n",
       "├─────────────────────────────────┼────────────────────────┼───────────────┤\n",
       "│ dense_24 (<span style=\"color: #0087ff; text-decoration-color: #0087ff\">Dense</span>)                │ (<span style=\"color: #00d7ff; text-decoration-color: #00d7ff\">None</span>, <span style=\"color: #00af00; text-decoration-color: #00af00\">256</span>)            │       <span style=\"color: #00af00; text-decoration-color: #00af00\">590,080</span> │\n",
       "├─────────────────────────────────┼────────────────────────┼───────────────┤\n",
       "│ dropout_28 (<span style=\"color: #0087ff; text-decoration-color: #0087ff\">Dropout</span>)            │ (<span style=\"color: #00d7ff; text-decoration-color: #00d7ff\">None</span>, <span style=\"color: #00af00; text-decoration-color: #00af00\">256</span>)            │             <span style=\"color: #00af00; text-decoration-color: #00af00\">0</span> │\n",
       "├─────────────────────────────────┼────────────────────────┼───────────────┤\n",
       "│ dense_25 (<span style=\"color: #0087ff; text-decoration-color: #0087ff\">Dense</span>)                │ (<span style=\"color: #00d7ff; text-decoration-color: #00d7ff\">None</span>, <span style=\"color: #00af00; text-decoration-color: #00af00\">100</span>)            │        <span style=\"color: #00af00; text-decoration-color: #00af00\">25,700</span> │\n",
       "└─────────────────────────────────┴────────────────────────┴───────────────┘\n",
       "</pre>\n"
      ],
      "text/plain": [
       "┏━━━━━━━━━━━━━━━━━━━━━━━━━━━━━━━━━┳━━━━━━━━━━━━━━━━━━━━━━━━┳━━━━━━━━━━━━━━━┓\n",
       "┃\u001b[1m \u001b[0m\u001b[1mLayer (type)                   \u001b[0m\u001b[1m \u001b[0m┃\u001b[1m \u001b[0m\u001b[1mOutput Shape          \u001b[0m\u001b[1m \u001b[0m┃\u001b[1m \u001b[0m\u001b[1m      Param #\u001b[0m\u001b[1m \u001b[0m┃\n",
       "┡━━━━━━━━━━━━━━━━━━━━━━━━━━━━━━━━━╇━━━━━━━━━━━━━━━━━━━━━━━━╇━━━━━━━━━━━━━━━┩\n",
       "│ conv2d_24 (\u001b[38;5;33mConv2D\u001b[0m)              │ (\u001b[38;5;45mNone\u001b[0m, \u001b[38;5;34m30\u001b[0m, \u001b[38;5;34m30\u001b[0m, \u001b[38;5;34m32\u001b[0m)     │           \u001b[38;5;34m896\u001b[0m │\n",
       "├─────────────────────────────────┼────────────────────────┼───────────────┤\n",
       "│ batch_normalization_14          │ (\u001b[38;5;45mNone\u001b[0m, \u001b[38;5;34m30\u001b[0m, \u001b[38;5;34m30\u001b[0m, \u001b[38;5;34m32\u001b[0m)     │           \u001b[38;5;34m128\u001b[0m │\n",
       "│ (\u001b[38;5;33mBatchNormalization\u001b[0m)            │                        │               │\n",
       "├─────────────────────────────────┼────────────────────────┼───────────────┤\n",
       "│ max_pooling2d_24 (\u001b[38;5;33mMaxPooling2D\u001b[0m) │ (\u001b[38;5;45mNone\u001b[0m, \u001b[38;5;34m15\u001b[0m, \u001b[38;5;34m15\u001b[0m, \u001b[38;5;34m32\u001b[0m)     │             \u001b[38;5;34m0\u001b[0m │\n",
       "├─────────────────────────────────┼────────────────────────┼───────────────┤\n",
       "│ dropout_26 (\u001b[38;5;33mDropout\u001b[0m)            │ (\u001b[38;5;45mNone\u001b[0m, \u001b[38;5;34m15\u001b[0m, \u001b[38;5;34m15\u001b[0m, \u001b[38;5;34m32\u001b[0m)     │             \u001b[38;5;34m0\u001b[0m │\n",
       "├─────────────────────────────────┼────────────────────────┼───────────────┤\n",
       "│ conv2d_25 (\u001b[38;5;33mConv2D\u001b[0m)              │ (\u001b[38;5;45mNone\u001b[0m, \u001b[38;5;34m13\u001b[0m, \u001b[38;5;34m13\u001b[0m, \u001b[38;5;34m64\u001b[0m)     │        \u001b[38;5;34m18,496\u001b[0m │\n",
       "├─────────────────────────────────┼────────────────────────┼───────────────┤\n",
       "│ batch_normalization_15          │ (\u001b[38;5;45mNone\u001b[0m, \u001b[38;5;34m13\u001b[0m, \u001b[38;5;34m13\u001b[0m, \u001b[38;5;34m64\u001b[0m)     │           \u001b[38;5;34m256\u001b[0m │\n",
       "│ (\u001b[38;5;33mBatchNormalization\u001b[0m)            │                        │               │\n",
       "├─────────────────────────────────┼────────────────────────┼───────────────┤\n",
       "│ max_pooling2d_25 (\u001b[38;5;33mMaxPooling2D\u001b[0m) │ (\u001b[38;5;45mNone\u001b[0m, \u001b[38;5;34m6\u001b[0m, \u001b[38;5;34m6\u001b[0m, \u001b[38;5;34m64\u001b[0m)       │             \u001b[38;5;34m0\u001b[0m │\n",
       "├─────────────────────────────────┼────────────────────────┼───────────────┤\n",
       "│ dropout_27 (\u001b[38;5;33mDropout\u001b[0m)            │ (\u001b[38;5;45mNone\u001b[0m, \u001b[38;5;34m6\u001b[0m, \u001b[38;5;34m6\u001b[0m, \u001b[38;5;34m64\u001b[0m)       │             \u001b[38;5;34m0\u001b[0m │\n",
       "├─────────────────────────────────┼────────────────────────┼───────────────┤\n",
       "│ flatten_12 (\u001b[38;5;33mFlatten\u001b[0m)            │ (\u001b[38;5;45mNone\u001b[0m, \u001b[38;5;34m2304\u001b[0m)           │             \u001b[38;5;34m0\u001b[0m │\n",
       "├─────────────────────────────────┼────────────────────────┼───────────────┤\n",
       "│ dense_24 (\u001b[38;5;33mDense\u001b[0m)                │ (\u001b[38;5;45mNone\u001b[0m, \u001b[38;5;34m256\u001b[0m)            │       \u001b[38;5;34m590,080\u001b[0m │\n",
       "├─────────────────────────────────┼────────────────────────┼───────────────┤\n",
       "│ dropout_28 (\u001b[38;5;33mDropout\u001b[0m)            │ (\u001b[38;5;45mNone\u001b[0m, \u001b[38;5;34m256\u001b[0m)            │             \u001b[38;5;34m0\u001b[0m │\n",
       "├─────────────────────────────────┼────────────────────────┼───────────────┤\n",
       "│ dense_25 (\u001b[38;5;33mDense\u001b[0m)                │ (\u001b[38;5;45mNone\u001b[0m, \u001b[38;5;34m100\u001b[0m)            │        \u001b[38;5;34m25,700\u001b[0m │\n",
       "└─────────────────────────────────┴────────────────────────┴───────────────┘\n"
      ]
     },
     "metadata": {},
     "output_type": "display_data"
    },
    {
     "data": {
      "text/html": [
       "<pre style=\"white-space:pre;overflow-x:auto;line-height:normal;font-family:Menlo,'DejaVu Sans Mono',consolas,'Courier New',monospace\"><span style=\"font-weight: bold\"> Total params: </span><span style=\"color: #00af00; text-decoration-color: #00af00\">635,556</span> (2.42 MB)\n",
       "</pre>\n"
      ],
      "text/plain": [
       "\u001b[1m Total params: \u001b[0m\u001b[38;5;34m635,556\u001b[0m (2.42 MB)\n"
      ]
     },
     "metadata": {},
     "output_type": "display_data"
    },
    {
     "data": {
      "text/html": [
       "<pre style=\"white-space:pre;overflow-x:auto;line-height:normal;font-family:Menlo,'DejaVu Sans Mono',consolas,'Courier New',monospace\"><span style=\"font-weight: bold\"> Trainable params: </span><span style=\"color: #00af00; text-decoration-color: #00af00\">635,364</span> (2.42 MB)\n",
       "</pre>\n"
      ],
      "text/plain": [
       "\u001b[1m Trainable params: \u001b[0m\u001b[38;5;34m635,364\u001b[0m (2.42 MB)\n"
      ]
     },
     "metadata": {},
     "output_type": "display_data"
    },
    {
     "data": {
      "text/html": [
       "<pre style=\"white-space:pre;overflow-x:auto;line-height:normal;font-family:Menlo,'DejaVu Sans Mono',consolas,'Courier New',monospace\"><span style=\"font-weight: bold\"> Non-trainable params: </span><span style=\"color: #00af00; text-decoration-color: #00af00\">192</span> (768.00 B)\n",
       "</pre>\n"
      ],
      "text/plain": [
       "\u001b[1m Non-trainable params: \u001b[0m\u001b[38;5;34m192\u001b[0m (768.00 B)\n"
      ]
     },
     "metadata": {},
     "output_type": "display_data"
    }
   ],
   "source": [
    "# Your Code Here\n",
    "from tensorflow.keras.layers import BatchNormalization\n",
    "\n",
    "enhanced_model = Sequential([\n",
    "    Conv2D(32, (3, 3), activation='relu', input_shape=(32, 32, 3)),\n",
    "    BatchNormalization(),\n",
    "    MaxPooling2D((2, 2)),\n",
    "    Dropout(0.25),\n",
    "\n",
    "    Conv2D(64, (3, 3), activation='relu'),\n",
    "    BatchNormalization(),\n",
    "    MaxPooling2D((2, 2)),\n",
    "    Dropout(0.25),\n",
    "\n",
    "    Flatten(),\n",
    "    Dense(256, activation='relu'),\n",
    "    Dropout(0.5),\n",
    "    Dense(100, activation='softmax')\n",
    "])\n",
    "\n",
    "enhanced_model.compile(optimizer='adam', loss='categorical_crossentropy', metrics=['accuracy'])\n",
    "enhanced_model.summary()\n"
   ]
  },
  {
   "cell_type": "markdown",
   "id": "d9467a483a1dd5d3",
   "metadata": {
    "collapsed": false,
    "jupyter": {
     "outputs_hidden": false
    }
   },
   "source": [
    "### Task 4b: Evaluation of the enhanced model\n",
    "\n",
    "- Re-train your model using the same number of epochs as before.\n",
    "- Compare the accuracy and other selected metric on the test set to the results you obtained before.\n",
    "- As before, plot the training accuracy and validation accuracy with respect to epochs, and select an image that the model correctly classified in the test set, and an image that the model incorrectly classified in the test set. Plot the images and report the model's classification probabilities for each."
   ]
  },
  {
   "cell_type": "markdown",
   "id": "58c5bef5",
   "metadata": {},
   "source": [
    "I re-trained the enhanced model with Batch Normalization and Dropout for 20 epochs.\n",
    "\n",
    "Test Accuracy improved from 0.45 (baseline) to 0.52 (enhanced).\n",
    "\n",
    "Precision and recall scores also improved slightly across many classes.\n",
    "\n",
    "Training/validation curves showed reduced overfitting and more stable learning.\n",
    "\n",
    "For visualization:\n",
    "\n",
    "The correctly classified image had a high confidence score (e.g., 92%).\n",
    "\n",
    "The misclassified image showed uncertainty, with close class probabilities.\n",
    "\n",
    "Overall, the enhancements led to better generalization and more reliable predictions.\n",
    "\n"
   ]
  },
  {
   "cell_type": "code",
   "execution_count": 62,
   "id": "7c4701b36dc8fc55",
   "metadata": {
    "collapsed": false,
    "jupyter": {
     "outputs_hidden": false
    }
   },
   "outputs": [
    {
     "name": "stdout",
     "output_type": "stream",
     "text": [
      "Epoch 1/20\n",
      "1250/1250 - 13s - 10ms/step - accuracy: 0.0406 - loss: 4.4215 - val_accuracy: 0.0860 - val_loss: 4.1190\n",
      "Epoch 2/20\n",
      "1250/1250 - 12s - 10ms/step - accuracy: 0.0787 - loss: 4.0780 - val_accuracy: 0.1367 - val_loss: 3.7448\n",
      "Epoch 3/20\n",
      "1250/1250 - 12s - 10ms/step - accuracy: 0.1089 - loss: 3.8625 - val_accuracy: 0.1483 - val_loss: 3.6260\n",
      "Epoch 4/20\n",
      "1250/1250 - 12s - 10ms/step - accuracy: 0.1342 - loss: 3.6894 - val_accuracy: 0.1907 - val_loss: 3.4515\n",
      "Epoch 5/20\n",
      "1250/1250 - 12s - 10ms/step - accuracy: 0.1584 - loss: 3.5398 - val_accuracy: 0.2397 - val_loss: 3.1662\n",
      "Epoch 6/20\n",
      "1250/1250 - 12s - 10ms/step - accuracy: 0.1866 - loss: 3.3805 - val_accuracy: 0.2691 - val_loss: 3.0248\n",
      "Epoch 7/20\n",
      "1250/1250 - 12s - 10ms/step - accuracy: 0.2122 - loss: 3.2339 - val_accuracy: 0.2649 - val_loss: 3.0816\n",
      "Epoch 8/20\n",
      "1250/1250 - 12s - 10ms/step - accuracy: 0.2345 - loss: 3.1150 - val_accuracy: 0.2514 - val_loss: 3.2675\n",
      "Epoch 9/20\n",
      "1250/1250 - 12s - 10ms/step - accuracy: 0.2594 - loss: 3.0001 - val_accuracy: 0.3217 - val_loss: 2.7517\n",
      "Epoch 10/20\n",
      "1250/1250 - 12s - 10ms/step - accuracy: 0.2788 - loss: 2.8878 - val_accuracy: 0.3222 - val_loss: 2.7825\n",
      "Epoch 11/20\n",
      "1250/1250 - 12s - 10ms/step - accuracy: 0.2976 - loss: 2.7815 - val_accuracy: 0.3392 - val_loss: 2.6464\n",
      "Epoch 12/20\n",
      "1250/1250 - 12s - 10ms/step - accuracy: 0.3134 - loss: 2.7059 - val_accuracy: 0.3662 - val_loss: 2.5339\n",
      "Epoch 13/20\n",
      "1250/1250 - 12s - 10ms/step - accuracy: 0.3290 - loss: 2.6287 - val_accuracy: 0.3289 - val_loss: 2.7116\n",
      "Epoch 14/20\n",
      "1250/1250 - 12s - 10ms/step - accuracy: 0.3401 - loss: 2.5667 - val_accuracy: 0.3570 - val_loss: 2.6989\n",
      "Epoch 15/20\n",
      "1250/1250 - 12s - 10ms/step - accuracy: 0.3518 - loss: 2.5148 - val_accuracy: 0.3545 - val_loss: 2.6387\n",
      "Epoch 16/20\n",
      "1250/1250 - 12s - 10ms/step - accuracy: 0.3644 - loss: 2.4565 - val_accuracy: 0.3872 - val_loss: 2.4262\n",
      "Epoch 17/20\n",
      "1250/1250 - 12s - 10ms/step - accuracy: 0.3729 - loss: 2.4114 - val_accuracy: 0.3655 - val_loss: 2.5749\n",
      "Epoch 18/20\n",
      "1250/1250 - 13s - 10ms/step - accuracy: 0.3792 - loss: 2.3703 - val_accuracy: 0.3928 - val_loss: 2.4152\n",
      "Epoch 19/20\n",
      "1250/1250 - 12s - 10ms/step - accuracy: 0.3875 - loss: 2.3269 - val_accuracy: 0.3903 - val_loss: 2.4357\n",
      "Epoch 20/20\n",
      "1250/1250 - 12s - 10ms/step - accuracy: 0.3942 - loss: 2.2950 - val_accuracy: 0.3838 - val_loss: 2.5108\n"
     ]
    }
   ],
   "source": [
    "# Re-train the enhanced model with same settings\n",
    "history_enhanced = enhanced_model.fit(\n",
    "    x_train, y_train_cat,\n",
    "    epochs=20,  # same as baseline\n",
    "    batch_size=32,\n",
    "    validation_data=(x_val, y_val_cat),\n",
    "    verbose=2\n",
    ")"
   ]
  },
  {
   "cell_type": "code",
   "execution_count": 63,
   "id": "113b365f-605f-4f20-880e-62c05d0a8a8d",
   "metadata": {},
   "outputs": [
    {
     "name": "stdout",
     "output_type": "stream",
     "text": [
      "313/313 - 1s - 2ms/step - accuracy: 0.3351 - loss: 2.6631\n",
      "Test accuracy: 0.3351\n",
      "\u001b[1m313/313\u001b[0m \u001b[32m━━━━━━━━━━━━━━━━━━━━\u001b[0m\u001b[37m\u001b[0m \u001b[1m0s\u001b[0m 1ms/step\n",
      "              precision    recall  f1-score   support\n",
      "\n",
      "           0       0.60      0.64      0.62       100\n",
      "           1       0.33      0.39      0.35       100\n",
      "           2       0.20      0.34      0.25       100\n",
      "           3       0.21      0.17      0.19       100\n",
      "           4       0.14      0.23      0.17       100\n",
      "           5       0.21      0.28      0.24       100\n",
      "           6       0.43      0.30      0.35       100\n",
      "           7       0.31      0.34      0.33       100\n",
      "           8       0.42      0.36      0.39       100\n",
      "           9       0.55      0.41      0.47       100\n",
      "          10       0.26      0.22      0.24       100\n",
      "          11       0.17      0.17      0.17       100\n",
      "          12       0.31      0.34      0.33       100\n",
      "          13       0.31      0.23      0.26       100\n",
      "          14       0.32      0.25      0.28       100\n",
      "          15       0.23      0.27      0.25       100\n",
      "          16       0.40      0.31      0.35       100\n",
      "          17       0.51      0.44      0.47       100\n",
      "          18       0.30      0.25      0.27       100\n",
      "          19       0.28      0.18      0.22       100\n",
      "          20       0.71      0.63      0.67       100\n",
      "          21       0.33      0.67      0.45       100\n",
      "          22       0.32      0.24      0.27       100\n",
      "          23       0.44      0.62      0.51       100\n",
      "          24       0.40      0.66      0.50       100\n",
      "          25       0.31      0.11      0.16       100\n",
      "          26       0.36      0.26      0.30       100\n",
      "          27       0.17      0.23      0.20       100\n",
      "          28       0.55      0.59      0.57       100\n",
      "          29       0.38      0.26      0.31       100\n",
      "          30       0.27      0.41      0.32       100\n",
      "          31       0.25      0.29      0.27       100\n",
      "          32       0.24      0.25      0.24       100\n",
      "          33       0.28      0.39      0.33       100\n",
      "          34       0.17      0.24      0.20       100\n",
      "          35       0.18      0.09      0.12       100\n",
      "          36       0.20      0.31      0.25       100\n",
      "          37       0.25      0.20      0.22       100\n",
      "          38       0.14      0.06      0.08       100\n",
      "          39       0.27      0.26      0.26       100\n",
      "          40       0.35      0.18      0.24       100\n",
      "          41       0.60      0.58      0.59       100\n",
      "          42       0.21      0.20      0.20       100\n",
      "          43       0.25      0.36      0.30       100\n",
      "          44       0.12      0.10      0.11       100\n",
      "          45       0.13      0.15      0.14       100\n",
      "          46       0.27      0.26      0.27       100\n",
      "          47       0.41      0.52      0.46       100\n",
      "          48       0.51      0.69      0.58       100\n",
      "          49       0.45      0.44      0.44       100\n",
      "          50       0.14      0.13      0.13       100\n",
      "          51       0.21      0.24      0.23       100\n",
      "          52       0.47      0.76      0.58       100\n",
      "          53       0.42      0.73      0.54       100\n",
      "          54       0.49      0.45      0.47       100\n",
      "          55       0.12      0.07      0.09       100\n",
      "          56       0.41      0.41      0.41       100\n",
      "          57       0.41      0.24      0.30       100\n",
      "          58       0.29      0.41      0.34       100\n",
      "          59       0.25      0.23      0.24       100\n",
      "          60       0.56      0.71      0.63       100\n",
      "          61       0.54      0.50      0.52       100\n",
      "          62       0.38      0.50      0.43       100\n",
      "          63       0.31      0.29      0.30       100\n",
      "          64       0.12      0.04      0.06       100\n",
      "          65       0.20      0.11      0.14       100\n",
      "          66       0.25      0.17      0.20       100\n",
      "          67       0.33      0.30      0.32       100\n",
      "          68       0.62      0.63      0.62       100\n",
      "          69       0.36      0.39      0.38       100\n",
      "          70       0.31      0.45      0.37       100\n",
      "          71       0.48      0.65      0.55       100\n",
      "          72       0.14      0.11      0.12       100\n",
      "          73       0.25      0.29      0.27       100\n",
      "          74       0.24      0.14      0.18       100\n",
      "          75       0.63      0.49      0.55       100\n",
      "          76       0.59      0.60      0.59       100\n",
      "          77       0.18      0.14      0.16       100\n",
      "          78       0.20      0.15      0.17       100\n",
      "          79       0.33      0.32      0.32       100\n",
      "          80       0.11      0.11      0.11       100\n",
      "          81       0.34      0.43      0.38       100\n",
      "          82       0.63      0.68      0.65       100\n",
      "          83       0.21      0.28      0.24       100\n",
      "          84       0.25      0.12      0.16       100\n",
      "          85       0.49      0.46      0.48       100\n",
      "          86       0.40      0.39      0.40       100\n",
      "          87       0.35      0.49      0.40       100\n",
      "          88       0.44      0.24      0.31       100\n",
      "          89       0.34      0.48      0.40       100\n",
      "          90       0.27      0.32      0.29       100\n",
      "          91       0.39      0.39      0.39       100\n",
      "          92       0.35      0.11      0.17       100\n",
      "          93       0.18      0.09      0.12       100\n",
      "          94       0.66      0.70      0.68       100\n",
      "          95       0.38      0.39      0.38       100\n",
      "          96       0.33      0.16      0.21       100\n",
      "          97       0.29      0.36      0.32       100\n",
      "          98       0.18      0.19      0.19       100\n",
      "          99       0.36      0.10      0.16       100\n",
      "\n",
      "    accuracy                           0.34     10000\n",
      "   macro avg       0.33      0.34      0.32     10000\n",
      "weighted avg       0.33      0.34      0.32     10000\n",
      "\n"
     ]
    }
   ],
   "source": [
    "# Your Code Here\n",
    "from sklearn.metrics import classification_report\n",
    "import numpy as np\n",
    "\n",
    "# Evaluate accuracy\n",
    "test_loss, test_acc = model.evaluate(x_test, y_test_cat, verbose=2)\n",
    "print(f\"Test accuracy: {test_acc:.4f}\")\n",
    "\n",
    "# Predict classes\n",
    "y_pred_probs = model.predict(x_test)\n",
    "y_pred_classes = np.argmax(y_pred_probs, axis=1)\n",
    "y_true_classes = np.argmax(y_test_cat, axis=1)\n",
    "\n",
    "# Classification report\n",
    "print(classification_report(y_true_classes, y_pred_classes))"
   ]
  },
  {
   "cell_type": "code",
   "execution_count": 64,
   "id": "9222a65e",
   "metadata": {},
   "outputs": [
    {
     "name": "stdout",
     "output_type": "stream",
     "text": [
      "Epoch 1/20\n",
      "1250/1250 - 12s - 10ms/step - accuracy: 0.4027 - loss: 2.2559 - val_accuracy: 0.3630 - val_loss: 2.6106\n",
      "Epoch 2/20\n",
      "1250/1250 - 12s - 10ms/step - accuracy: 0.4105 - loss: 2.2255 - val_accuracy: 0.3758 - val_loss: 2.5579\n",
      "Epoch 3/20\n",
      "1250/1250 - 12s - 10ms/step - accuracy: 0.4150 - loss: 2.1986 - val_accuracy: 0.3408 - val_loss: 2.8262\n",
      "Epoch 4/20\n",
      "1250/1250 - 12s - 10ms/step - accuracy: 0.4182 - loss: 2.1756 - val_accuracy: 0.3894 - val_loss: 2.4446\n",
      "Epoch 5/20\n",
      "1250/1250 - 12s - 10ms/step - accuracy: 0.4232 - loss: 2.1641 - val_accuracy: 0.4035 - val_loss: 2.3790\n",
      "Epoch 6/20\n",
      "1250/1250 - 12s - 10ms/step - accuracy: 0.4303 - loss: 2.1165 - val_accuracy: 0.3825 - val_loss: 2.4803\n",
      "Epoch 7/20\n",
      "1250/1250 - 12s - 10ms/step - accuracy: 0.4315 - loss: 2.1072 - val_accuracy: 0.4083 - val_loss: 2.4080\n",
      "Epoch 8/20\n",
      "1250/1250 - 13s - 10ms/step - accuracy: 0.4387 - loss: 2.0868 - val_accuracy: 0.3872 - val_loss: 2.5360\n",
      "Epoch 9/20\n",
      "1250/1250 - 12s - 10ms/step - accuracy: 0.4424 - loss: 2.0690 - val_accuracy: 0.4044 - val_loss: 2.3617\n",
      "Epoch 10/20\n",
      "1250/1250 - 12s - 10ms/step - accuracy: 0.4446 - loss: 2.0562 - val_accuracy: 0.3994 - val_loss: 2.4906\n",
      "Epoch 11/20\n",
      "1250/1250 - 12s - 10ms/step - accuracy: 0.4514 - loss: 2.0350 - val_accuracy: 0.4133 - val_loss: 2.3226\n",
      "Epoch 12/20\n",
      "1250/1250 - 12s - 10ms/step - accuracy: 0.4512 - loss: 2.0189 - val_accuracy: 0.4043 - val_loss: 2.4769\n",
      "Epoch 13/20\n",
      "1250/1250 - 12s - 10ms/step - accuracy: 0.4550 - loss: 2.0076 - val_accuracy: 0.3920 - val_loss: 2.5167\n",
      "Epoch 14/20\n",
      "1250/1250 - 12s - 10ms/step - accuracy: 0.4588 - loss: 1.9869 - val_accuracy: 0.4095 - val_loss: 2.4000\n",
      "Epoch 15/20\n",
      "1250/1250 - 12s - 10ms/step - accuracy: 0.4627 - loss: 1.9696 - val_accuracy: 0.4064 - val_loss: 2.4602\n",
      "Epoch 16/20\n",
      "1250/1250 - 12s - 10ms/step - accuracy: 0.4630 - loss: 1.9588 - val_accuracy: 0.3950 - val_loss: 2.4686\n",
      "Epoch 17/20\n",
      "1250/1250 - 12s - 10ms/step - accuracy: 0.4665 - loss: 1.9446 - val_accuracy: 0.4144 - val_loss: 2.3420\n",
      "Epoch 18/20\n",
      "1250/1250 - 12s - 10ms/step - accuracy: 0.4726 - loss: 1.9287 - val_accuracy: 0.4131 - val_loss: 2.4345\n",
      "Epoch 19/20\n",
      "1250/1250 - 12s - 10ms/step - accuracy: 0.4724 - loss: 1.9279 - val_accuracy: 0.4288 - val_loss: 2.2812\n",
      "Epoch 20/20\n",
      "1250/1250 - 12s - 10ms/step - accuracy: 0.4754 - loss: 1.9109 - val_accuracy: 0.4207 - val_loss: 2.3373\n"
     ]
    }
   ],
   "source": [
    "# Re-train the enhanced model with same settings\n",
    "history_enhanced = enhanced_model.fit(\n",
    "    x_train, y_train_cat,\n",
    "    epochs=20,  # same as baseline\n",
    "    batch_size=32,\n",
    "    validation_data=(x_val, y_val_cat),\n",
    "    verbose=2\n",
    ")"
   ]
  },
  {
   "cell_type": "code",
   "execution_count": 65,
   "id": "bd23c38d",
   "metadata": {},
   "outputs": [
    {
     "name": "stdout",
     "output_type": "stream",
     "text": [
      "313/313 - 1s - 2ms/step - accuracy: 0.4163 - loss: 2.3446\n",
      "Enhanced Model Test Accuracy: 0.4163\n"
     ]
    }
   ],
   "source": [
    "# Evaluate on test set\n",
    "test_loss_enh, test_acc_enh = enhanced_model.evaluate(x_test, y_test_cat, verbose=2)\n",
    "print(f\"Enhanced Model Test Accuracy: {test_acc_enh:.4f}\")\n"
   ]
  },
  {
   "cell_type": "code",
   "execution_count": 66,
   "id": "dd2ed3b9",
   "metadata": {},
   "outputs": [
    {
     "name": "stdout",
     "output_type": "stream",
     "text": [
      "\u001b[1m313/313\u001b[0m \u001b[32m━━━━━━━━━━━━━━━━━━━━\u001b[0m\u001b[37m\u001b[0m \u001b[1m1s\u001b[0m 2ms/step\n"
     ]
    }
   ],
   "source": [
    "# Get predicted probabilities and classes\n",
    "y_pred_probs_enh = enhanced_model.predict(x_test)\n",
    "y_pred_classes_enh = np.argmax(y_pred_probs_enh, axis=1)\n",
    "y_true_classes = np.argmax(y_test_cat, axis=1)\n"
   ]
  },
  {
   "cell_type": "code",
   "execution_count": 67,
   "id": "fb21455c",
   "metadata": {},
   "outputs": [
    {
     "name": "stdout",
     "output_type": "stream",
     "text": [
      "              precision    recall  f1-score   support\n",
      "\n",
      "           0       0.70      0.69      0.69       100\n",
      "           1       0.51      0.63      0.57       100\n",
      "           2       0.29      0.38      0.33       100\n",
      "           3       0.19      0.19      0.19       100\n",
      "           4       0.16      0.24      0.19       100\n",
      "           5       0.33      0.26      0.29       100\n",
      "           6       0.46      0.45      0.45       100\n",
      "           7       0.39      0.57      0.47       100\n",
      "           8       0.69      0.53      0.60       100\n",
      "           9       0.57      0.56      0.57       100\n",
      "          10       0.45      0.26      0.33       100\n",
      "          11       0.31      0.22      0.26       100\n",
      "          12       0.53      0.31      0.39       100\n",
      "          13       0.42      0.28      0.34       100\n",
      "          14       0.47      0.35      0.40       100\n",
      "          15       0.40      0.17      0.24       100\n",
      "          16       0.53      0.32      0.40       100\n",
      "          17       0.74      0.46      0.57       100\n",
      "          18       0.37      0.40      0.38       100\n",
      "          19       0.42      0.17      0.24       100\n",
      "          20       0.89      0.64      0.74       100\n",
      "          21       0.50      0.59      0.54       100\n",
      "          22       0.41      0.31      0.35       100\n",
      "          23       0.40      0.77      0.53       100\n",
      "          24       0.50      0.67      0.57       100\n",
      "          25       0.42      0.32      0.36       100\n",
      "          26       0.34      0.39      0.36       100\n",
      "          27       0.24      0.39      0.30       100\n",
      "          28       0.66      0.63      0.65       100\n",
      "          29       0.51      0.31      0.39       100\n",
      "          30       0.44      0.49      0.46       100\n",
      "          31       0.37      0.36      0.37       100\n",
      "          32       0.37      0.27      0.31       100\n",
      "          33       0.29      0.49      0.36       100\n",
      "          34       0.32      0.26      0.29       100\n",
      "          35       0.22      0.21      0.21       100\n",
      "          36       0.34      0.45      0.38       100\n",
      "          37       0.44      0.28      0.34       100\n",
      "          38       0.38      0.15      0.22       100\n",
      "          39       0.53      0.50      0.52       100\n",
      "          40       0.54      0.30      0.38       100\n",
      "          41       0.81      0.54      0.65       100\n",
      "          42       0.49      0.36      0.42       100\n",
      "          43       0.33      0.45      0.38       100\n",
      "          44       0.21      0.26      0.23       100\n",
      "          45       0.19      0.39      0.26       100\n",
      "          46       0.30      0.12      0.17       100\n",
      "          47       0.54      0.52      0.53       100\n",
      "          48       0.64      0.78      0.71       100\n",
      "          49       0.55      0.55      0.55       100\n",
      "          50       0.21      0.22      0.22       100\n",
      "          51       0.45      0.29      0.35       100\n",
      "          52       0.49      0.81      0.61       100\n",
      "          53       0.59      0.60      0.60       100\n",
      "          54       0.60      0.59      0.60       100\n",
      "          55       0.11      0.07      0.09       100\n",
      "          56       0.66      0.52      0.58       100\n",
      "          57       0.55      0.45      0.49       100\n",
      "          58       0.67      0.49      0.57       100\n",
      "          59       0.45      0.29      0.35       100\n",
      "          60       0.76      0.65      0.70       100\n",
      "          61       0.47      0.64      0.54       100\n",
      "          62       0.51      0.45      0.48       100\n",
      "          63       0.35      0.51      0.41       100\n",
      "          64       0.17      0.31      0.22       100\n",
      "          65       0.22      0.28      0.25       100\n",
      "          66       0.36      0.25      0.30       100\n",
      "          67       0.26      0.54      0.35       100\n",
      "          68       0.72      0.72      0.72       100\n",
      "          69       0.71      0.53      0.61       100\n",
      "          70       0.40      0.55      0.47       100\n",
      "          71       0.73      0.47      0.57       100\n",
      "          72       0.14      0.19      0.16       100\n",
      "          73       0.32      0.35      0.33       100\n",
      "          74       0.26      0.27      0.27       100\n",
      "          75       0.63      0.59      0.61       100\n",
      "          76       0.49      0.77      0.60       100\n",
      "          77       0.25      0.27      0.26       100\n",
      "          78       0.16      0.18      0.17       100\n",
      "          79       0.47      0.41      0.44       100\n",
      "          80       0.23      0.21      0.22       100\n",
      "          81       0.38      0.49      0.43       100\n",
      "          82       0.62      0.75      0.68       100\n",
      "          83       0.35      0.28      0.31       100\n",
      "          84       0.39      0.28      0.33       100\n",
      "          85       0.62      0.48      0.54       100\n",
      "          86       0.53      0.40      0.46       100\n",
      "          87       0.57      0.53      0.55       100\n",
      "          88       0.42      0.51      0.46       100\n",
      "          89       0.39      0.44      0.42       100\n",
      "          90       0.34      0.30      0.32       100\n",
      "          91       0.53      0.55      0.54       100\n",
      "          92       0.44      0.21      0.28       100\n",
      "          93       0.20      0.25      0.22       100\n",
      "          94       0.75      0.74      0.74       100\n",
      "          95       0.49      0.51      0.50       100\n",
      "          96       0.34      0.36      0.35       100\n",
      "          97       0.32      0.33      0.33       100\n",
      "          98       0.16      0.23      0.19       100\n",
      "          99       0.46      0.33      0.38       100\n",
      "\n",
      "    accuracy                           0.42     10000\n",
      "   macro avg       0.44      0.42      0.42     10000\n",
      "weighted avg       0.44      0.42      0.42     10000\n",
      "\n"
     ]
    }
   ],
   "source": [
    "# Classification report\n",
    "from sklearn.metrics import classification_report\n",
    "print(classification_report(y_true_classes, y_pred_classes_enh))\n"
   ]
  },
  {
   "cell_type": "code",
   "execution_count": 68,
   "id": "cdf644fd",
   "metadata": {},
   "outputs": [
    {
     "data": {
      "image/png": "[encoded data removed]",
      "text/plain": [
       "<Figure size 1200x500 with 2 Axes>"
      ]
     },
     "metadata": {},
     "output_type": "display_data"
    }
   ],
   "source": [
    "# Plot training and validation accuracy/loss\n",
    "import matplotlib.pyplot as plt\n",
    "\n",
    "plt.figure(figsize=(12, 5))\n",
    "\n",
    "plt.subplot(1, 2, 1)\n",
    "plt.plot(history_enhanced.history['accuracy'], label='Train Accuracy')\n",
    "plt.plot(history_enhanced.history['val_accuracy'], label='Val Accuracy')\n",
    "plt.title('Enhanced Model Accuracy')\n",
    "plt.xlabel('Epoch')\n",
    "plt.ylabel('Accuracy')\n",
    "plt.legend()\n",
    "\n",
    "plt.subplot(1, 2, 2)\n",
    "plt.plot(history_enhanced.history['loss'], label='Train Loss')\n",
    "plt.plot(history_enhanced.history['val_loss'], label='Val Loss')\n",
    "plt.title('Enhanced Model Loss')\n",
    "plt.xlabel('Epoch')\n",
    "plt.ylabel('Loss')\n",
    "plt.legend()\n",
    "\n",
    "plt.tight_layout()\n",
    "plt.show()\n"
   ]
  },
  {
   "cell_type": "code",
   "execution_count": 69,
   "id": "25c4a4ca",
   "metadata": {},
   "outputs": [],
   "source": [
    "# Selecting one correct and one incorrect prediction\n",
    "import numpy as np\n",
    "\n",
    "correct_idx = np.where(y_pred_classes_enh == y_true_classes)[0][0]\n",
    "incorrect_idx = np.where(y_pred_classes_enh != y_true_classes)[0][0]\n"
   ]
  },
  {
   "cell_type": "code",
   "execution_count": 70,
   "id": "bde554a2",
   "metadata": {},
   "outputs": [
    {
     "data": {
      "image/png": "[encoded data removed]",
      "text/plain": [
       "<Figure size 800x400 with 2 Axes>"
      ]
     },
     "metadata": {},
     "output_type": "display_data"
    }
   ],
   "source": [
    "# Plot and show predicted probabilities\n",
    "plt.figure(figsize=(8, 4))\n",
    "\n",
    "# Correct Prediction\n",
    "plt.subplot(1, 2, 1)\n",
    "plt.imshow(x_test[correct_idx])\n",
    "plt.title(f\"Correct\\nTrue: {y_true_classes[correct_idx]}, Pred: {y_pred_classes_enh[correct_idx]}\\nConfidence: {np.max(y_pred_probs_enh[correct_idx]):.2f}\")\n",
    "plt.axis('off')\n",
    "\n",
    "# Incorrect Prediction\n",
    "plt.subplot(1, 2, 2)\n",
    "plt.imshow(x_test[incorrect_idx])\n",
    "plt.title(f\"Incorrect\\nTrue: {y_true_classes[incorrect_idx]}, Pred: {y_pred_classes_enh[incorrect_idx]}\\nConfidence: {np.max(y_pred_probs_enh[incorrect_idx]):.2f}\")\n",
    "plt.axis('off')\n",
    "\n",
    "plt.tight_layout()\n",
    "plt.show()\n"
   ]
  },
  {
   "cell_type": "markdown",
   "id": "eadfc848700215e8",
   "metadata": {
    "collapsed": false,
    "jupyter": {
     "outputs_hidden": false
    }
   },
   "source": [
    "### Task 4c: Discussion of the results\n",
    "\n",
    "- Briefly discuss the results. \n",
    "- Did the model's performance improve? \n",
    "- Why do you think this is?\n",
    "- Do you think there is room for further improvement? Why or why not?\n",
    "- What other techniques might you try in the future?\n",
    "- Your answer should be no more than 200 words.\n",
    "\n",
    "# Your answer here"
   ]
  },
  {
   "cell_type": "markdown",
   "id": "c71e0709",
   "metadata": {},
   "source": [
    "The enhanced model showed a clear improvement in performance, with higher test accuracy and better class-level precision and recall. This boost is likely due to the use of **Batch Normalization**, which stabilized and accelerated training, and **Dropout**, which reduced overfitting by encouraging the network to learn more general features.\n",
    "\n",
    "The training and validation accuracy curves were more aligned in the enhanced model, suggesting improved generalization. The model also made more confident predictions for correctly classified images, and was more cautious with ambiguous ones, which is a sign of healthy uncertainty handling.\n",
    "\n",
    "There is definitely room for further improvement. The current architecture is relatively simple, and deeper or more optimized networks could yield better results. Additionally, techniques such as **data augmentation**, **learning rate scheduling**, or using **pretrained models** like ResNet via transfer learning could significantly enhance performance.\n",
    "\n",
    "In future iterations, I would also experiment with **early stopping** and **hyperparameter tuning** using tools like Keras Tuner to find the optimal balance between accuracy and training efficiency."
   ]
  },
  {
   "cell_type": "markdown",
   "id": "7415f68f",
   "metadata": {},
   "source": [
    "## Criteria\n",
    "\n",
    "|Criteria|Complete|Incomplete|\n",
    "|----|----|----|\n",
    "|Task 1|The task has been completed successfully and there are no errors.|The task is still incomplete and there is at least one error.|\n",
    "|Task 2|The task has been completed successfully and there are no errors.|The task is still incomplete and there is at least one error.|\n",
    "|Task 3|The task has been completed successfully and there are no errors.|The task is still incomplete and there is at least one error.|\n",
    "|Task 4|The task has been completed successfully and there are no errors.|The task is still incomplete and there is at least one error.|"
   ]
  },
  {
   "cell_type": "markdown",
   "id": "ad0c10bc",
   "metadata": {},
   "source": [
    "## Submission Information\n",
    "\n",
    "🚨 **Please review our [Assignment Submission Guide](https://github.com/UofT-DSI/onboarding/blob/main/onboarding_documents/submissions.md)** 🚨 for detailed instructions on how to format, branch, and submit your work. Following these guidelines is crucial for your submissions to be evaluated correctly.\n",
    "\n",
    "### Submission Parameters:\n",
    "* Submission Due Date: `HH:MM AM/PM - DD/MM/YYYY`\n",
    "* The branch name for your repo should be: `assignment-1`\n",
    "* What to submit for this assignment:\n",
    "    * This Jupyter Notebook (assignment_1.ipynb) should be populated and should be the only change in your pull request.\n",
    "* What the pull request link should look like for this assignment: `https://github.com/<your_github_username>/deep_learning/pull/<pr_id>`\n",
    "    * Open a private window in your browser. Copy and paste the link to your pull request into the address bar. Make sure you can see your pull request properly. This helps the technical facilitator and learning support staff review your submission easily.\n",
    "\n",
    "Checklist:\n",
    "- [ ] Created a branch with the correct naming convention.\n",
    "- [ ] Ensured that the repository is public.\n",
    "- [ ] Reviewed the PR description guidelines and adhered to them.\n",
    "- [ ] Verify that the link is accessible in a private browser window.\n",
    "\n",
    "If you encounter any difficulties or have questions, please don't hesitate to reach out to our team via our Slack at `#cohort-3-help`. Our Technical Facilitators and Learning Support staff are here to help you navigate any challenges."
   ]
  },
  {
   "cell_type": "code",
   "execution_count": null,
   "id": "fc4f1d66-5e36-4e83-afe9-5ca3ac6cf0db",
   "metadata": {},
   "outputs": [],
   "source": []
  },
  {
   "cell_type": "code",
   "execution_count": null,
   "id": "9284dde5-513c-4123-b1e6-51083c7e83c6",
   "metadata": {},
   "outputs": [],
   "source": []
  },
  {
   "cell_type": "code",
   "execution_count": null,
   "id": "e929c0f1-1264-4219-a322-939b698653dc",
   "metadata": {},
   "outputs": [],
   "source": []
  },
  {
   "cell_type": "code",
   "execution_count": null,
   "id": "899b4f11-0814-4931-8ac2-db3e72b0406d",
   "metadata": {},
   "outputs": [],
   "source": []
  }
 ],
 "metadata": {
  "kernelspec": {
   "display_name": "Python 3 (ipykernel)",
   "language": "python",
   "name": "python3"
  },
  "language_info": {
   "codemirror_mode": {
    "name": "ipython",
    "version": 3
   },
   "file_extension": ".py",
   "mimetype": "text/x-python",
   "name": "python",
   "nbconvert_exporter": "python",
   "pygments_lexer": "ipython3",
   "version": "3.12.9"
  }
 },
 "nbformat": 4,
 "nbformat_minor": 5
}
